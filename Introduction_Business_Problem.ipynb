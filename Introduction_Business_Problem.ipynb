{
  "nbformat": 4,
  "nbformat_minor": 0,
  "metadata": {
    "colab": {
      "name": "Introduction/Business Problem.ipynb",
      "provenance": [],
      "collapsed_sections": [],
      "authorship_tag": "ABX9TyMC6cSOf8EkkEFg6VxEayiF",
      "include_colab_link": true
    },
    "kernelspec": {
      "name": "python3",
      "display_name": "Python 3"
    }
  },
  "cells": [
    {
      "cell_type": "markdown",
      "metadata": {
        "id": "view-in-github",
        "colab_type": "text"
      },
      "source": [
        "<a href=\"https://colab.research.google.com/github/SBGitHub21/Coursera_Capstone/blob/master/Introduction_Business_Problem.ipynb\" target=\"_parent\"><img src=\"https://colab.research.google.com/assets/colab-badge.svg\" alt=\"Open In Colab\"/></a>"
      ]
    },
    {
      "cell_type": "markdown",
      "metadata": {
        "id": "LjYhhZOT3PTi",
        "colab_type": "text"
      },
      "source": [
        "# **Business Idea**\n",
        "\n",
        "New York City is the hub of business as well as has a robust student population also. This unique blend of culture has given rise to numerous eateries and cafes all around. As a new business owner it is a daunting task to select the perfect spot for his/her business.\n",
        "\n",
        "The client wants to open a new cafe in New York City. She needs a place that will:\n",
        "\n",
        "\n",
        "\n",
        "*  Attract new customers\n",
        "*  Not in a hub \n",
        "* Would not encourage too much of competition\n",
        "\n",
        "Therefore, my project would help to give advises and draw up essential lines of business prediction and predicting hot spots.\n",
        "This would help find the perfect spot for the new cafe.\n"
      ]
    },
    {
      "cell_type": "code",
      "metadata": {
        "id": "eS0w9MvD4SOD",
        "colab_type": "code",
        "colab": {}
      },
      "source": [
        ""
      ],
      "execution_count": null,
      "outputs": []
    }
  ]
}