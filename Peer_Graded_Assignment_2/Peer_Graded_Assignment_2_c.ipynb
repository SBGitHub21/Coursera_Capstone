{
 "cells": [
  {
   "cell_type": "code",
   "execution_count": 1,
   "metadata": {},
   "outputs": [
    {
     "name": "stderr",
     "output_type": "stream",
     "text": [
      "/Users/sreyashibhattacharjee/Anaconda/anaconda3/lib/python3.7/site-packages/geopandas/plotting.py:607: UserWarning: The GeoDataFrame you are attempting to plot is empty. Nothing has been displayed.\n",
      "  UserWarning,\n"
     ]
    },
    {
     "data": {
      "image/png": "[encoded data removed]",
      "text/plain": [
       "<Figure size 432x288 with 1 Axes>"
      ]
     },
     "metadata": {
      "needs_background": "light"
     },
     "output_type": "display_data"
    }
   ],
   "source": [
    "# Start by creating a new Notebook for this assignment.\n",
    "# setup import\n",
    "%matplotlib inline\n",
    "\n",
    "import wikipedia as wp\n",
    "import pandas as pd \n",
    "\n",
    "import requests\n",
    "import io\n",
    "\n",
    "from shapely.geometry import Point\n",
    "import geopandas as gpd\n",
    "import matplotlib.pyplot as plt\n",
    "\n",
    "# Use the Notebook to build the code to scrape the following Wikipedia page, https://en.wikipedia.org/wiki/List_of_postal_codes_of_Canada:_M, in order to obtain the data that is in the table of postal codes and to transform the data into a pandas dataframe\n",
    "# enter the h1 element in wp.page(h1)\n",
    "html = wp.page(\"List of postal codes of Canada: M\").html().encode(\"UTF-8\")\n",
    "\n",
    "# determine the index of your table\n",
    "df = pd.read_html(html, header = 0)[0]\n",
    "\n",
    "# Only process the cells that have an assigned borough. Ignore cells with a borough that is Not assigned.\n",
    "df = df[df.Borough != 'Not assigned']\n",
    "\n",
    "# More than one neighborhood can exist in one postal code area. For example, in the table on the Wikipedia page, you will notice that M5A is listed twice and has two neighborhoods: Harbourfront and Regent Park. These two rows will be combined into one row with the neighborhoods separated with a comma as shown in row 11 in the above table.\n",
    "df = df.groupby(['Postal Code', 'Borough'])['Neighbourhood'].apply(list).apply(lambda x:', '.join(x)).to_frame().reset_index()\n",
    "\n",
    "# If a cell has a borough but a Not assigned neighborhood, then the neighborhood will be the same as the borough. So for the 9th cell in the table on the Wikipedia page, the value of the Borough and the Neighborhood columns will be Queen's Park.\n",
    "for index, row in df.iterrows():\n",
    "    if row['Neighbourhood'] == 'Not assigned':\n",
    "        row['Neighbourhood'] = row['Borough']\n",
    "\n",
    "# in order to utilize the Foursquare location data, we need to get the latitude and the longitude coordinates of each neighborhood.\n",
    "url=\"http://cocl.us/Geospatial_data\"\n",
    "s=requests.get(url).content\n",
    "c=pd.read_csv(io.StringIO(s.decode('utf-8')))\n",
    "\n",
    "# rename the first column to allow merging dataframes on Postcode\n",
    "c.columns = ['Postal Code', 'Latitude', 'Longitude']\n",
    "df = pd.merge(c, df, on='Postal Code')\n",
    "\n",
    "# reorder column names and show the dataframe\n",
    "df = df[['Postal Code', 'Borough', 'Neighbourhood', 'Latitude', 'Longitude']]\n",
    "\n",
    "# load latitude and longitude into geopandas dataframe\n",
    "df['Coordinates'] = list(zip(df.Longitude, df.Latitude))\n",
    "df['Coordinates'] = df['Coordinates'].apply(Point)\n",
    "gdf = gpd.GeoDataFrame(df, geometry='Coordinates')\n",
    "\n",
    "# set up map\n",
    "cities = gpd.read_file(gpd.datasets.get_path('naturalearth_cities'))\n",
    "ax = cities[cities.name == \"Toronto\"].plot(\n",
    "    color='white', edgecolor='black')\n",
    "\n",
    "# plot and show\n",
    "gdf.plot(ax=ax, color='red')\n",
    "plt.show()"
   ]
  },
  {
   "cell_type": "code",
   "execution_count": null,
   "metadata": {},
   "outputs": [],
   "source": []
  }
 ],
 "metadata": {
  "kernelspec": {
   "display_name": "Python 3",
   "language": "python",
   "name": "python3"
  },
  "language_info": {
   "codemirror_mode": {
    "name": "ipython",
    "version": 3
   },
   "file_extension": ".py",
   "mimetype": "text/x-python",
   "name": "python",
   "nbconvert_exporter": "python",
   "pygments_lexer": "ipython3",
   "version": "3.7.1"
  }
 },
 "nbformat": 4,
 "nbformat_minor": 4
}
