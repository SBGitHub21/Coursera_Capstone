{
  "nbformat": 4,
  "nbformat_minor": 0,
  "metadata": {
    "colab": {
      "name": "Data.ipynb",
      "provenance": [],
      "collapsed_sections": [],
      "authorship_tag": "ABX9TyNHxpaQ59aO+WPKV98X+7CE",
      "include_colab_link": true
    },
    "kernelspec": {
      "name": "python3",
      "display_name": "Python 3"
    }
  },
  "cells": [
    {
      "cell_type": "markdown",
      "metadata": {
        "id": "view-in-github",
        "colab_type": "text"
      },
      "source": [
        "<a href=\"https://colab.research.google.com/github/SBGitHub21/Coursera_Capstone/blob/master/Data.ipynb\" target=\"_parent\"><img src=\"https://colab.research.google.com/assets/colab-badge.svg\" alt=\"Open In Colab\"/></a>"
      ]
    },
    {
      "cell_type": "code",
      "metadata": {
        "id": "dZMPgdKO6DC7",
        "colab_type": "code",
        "colab": {}
      },
      "source": [
        ""
      ],
      "execution_count": null,
      "outputs": []
    },
    {
      "cell_type": "markdown",
      "metadata": {
        "id": "1OtmDchW636H",
        "colab_type": "text"
      },
      "source": [
        "# **Data**\n",
        "\n",
        "First, I will need to collect Data of all cafes in New York City including their Name, id, location (address, latitude, longitude) then pick up the \"hot\" neighbourhood which has most of the venues. \n",
        "\n",
        "In order to collect data, I will use FourSquare and apply folium for visualizing a particular neighborhood in which I will observe customer traffic and predict an appropriate location of new cafe. \n",
        "\n",
        "The temporary name on the folium map of the new cafe, will be displayed as \"Here!\""
      ]
    },
    {
      "cell_type": "code",
      "metadata": {
        "id": "sweA8W5E7haU",
        "colab_type": "code",
        "colab": {}
      },
      "source": [
        ""
      ],
      "execution_count": null,
      "outputs": []
    }
  ]
}